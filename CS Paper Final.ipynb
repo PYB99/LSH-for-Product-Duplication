{
 "cells": [
  {
   "cell_type": "markdown",
   "id": "27886e5e",
   "metadata": {},
   "source": [
    "Importing necessary packages"
   ]
  },
  {
   "cell_type": "code",
   "execution_count": 14,
   "id": "58736eba",
   "metadata": {},
   "outputs": [],
   "source": [
    "import numpy as np\n",
    "import pandas as pd\n",
    "import re\n",
    "import time\n",
    "import random\n",
    "import binascii\n",
    "import json\n",
    "from pandas.io.json import json_normalize\n",
    "from sklearn.model_selection import train_test_split\n",
    "from random import seed\n",
    "from random import randint\n",
    "import itertools\n",
    "from sklearn.utils import resample\n",
    "import matplotlib.pyplot as plt"
   ]
  },
  {
   "cell_type": "code",
   "execution_count": 15,
   "id": "768ee249",
   "metadata": {},
   "outputs": [],
   "source": [
    "f = open('TVs-all-merged.json',)\n",
    "data = json.load(f)"
   ]
  },
  {
   "cell_type": "code",
   "execution_count": 16,
   "id": "047538ed",
   "metadata": {},
   "outputs": [],
   "source": [
    "info = []\n",
    "\n",
    "for i in range(len(list(data.values()))):\n",
    "    if len(list(data.values())[i]) ==1:\n",
    "        info.append(list(data.values())[i][0])\n",
    "    else:\n",
    "        for j in range(len(list(data.values())[i])):\n",
    "            info.append(list(data.values())[i][1:][0])\n"
   ]
  },
  {
   "cell_type": "code",
   "execution_count": 17,
   "id": "d0743ef6",
   "metadata": {},
   "outputs": [
    {
     "data": {
      "text/plain": [
       "Index(['shop', 'url', 'modelID', 'featuresMap', 'title'], dtype='object')"
      ]
     },
     "execution_count": 17,
     "metadata": {},
     "output_type": "execute_result"
    }
   ],
   "source": [
    "columns = list(data.values())[0][0].keys()\n",
    "df = pd.DataFrame(info,columns=columns)\n",
    "df.columns"
   ]
  },
  {
   "cell_type": "code",
   "execution_count": 18,
   "id": "a5a316be",
   "metadata": {},
   "outputs": [],
   "source": [
    "#n_iterations = 5  #No. of bootstrap samples to be repeated (created)\n",
    "#n_size = int(len(df))\n",
    "\n",
    "#Lets run Bootstrap\n",
    "#all_sets=list()\n",
    "#test_sets=list()\n",
    "#pair_quality=list()\n",
    "#pair_completenes=list()\n",
    "#F1 = list()\n",
    "#for i in range(n_iterations):\n",
    "\n",
    "    #prepare train & test sets\n",
    " #   train = resample(df.values, n_samples = n_size) #Sampling with replacement, whichever is not used in training data will be used in test data\n",
    "  #  test = np.array([x for x in df.values if x.tolist() not in train.tolist()]) #picking rest of the data not considered in training sample\n",
    "    \n",
    "   # train = pd.DataFrame(train)\n",
    "   # train.columns=df.columns\n",
    "   # train_sets.append(train)\n",
    "   # test = pd.DataFrame(test)\n",
    "   # test.columns=df.columns\n",
    "   # test_sets.append(test)\n",
    "#print(len(train_sets[0]))\n",
    "     "
   ]
  },
  {
   "cell_type": "code",
   "execution_count": 19,
   "id": "ee9bb798",
   "metadata": {},
   "outputs": [
    {
     "name": "stdout",
     "output_type": "stream",
     "text": [
      "Total amount of double products: 699\n",
      "Total ammount of duplicate products: 329\n"
     ]
    }
   ],
   "source": [
    "##extract all double modelID's from datafile\n",
    "dupID = df.pivot_table(columns=['modelID'], aggfunc='size')\n",
    "dupID = dupID[dupID > 1]\n",
    "\n",
    "# print(dupID)\n",
    "\n",
    "##Enter a productID to check whether and how many times it is in the dataset \n",
    "#returns True when product is duplicate\n",
    "#returns False when product is unique\n",
    "def duplicateControl(productNumber):\n",
    "    if df['title'][productNumber] in dupID:\n",
    "        #print(y_data.iloc[productNumber], 'is contained in dupID')\n",
    "        return True\n",
    "    else:\n",
    "        #print(y_data.iloc[productNumber], 'is not more than once in the dataset')\n",
    "        return False    \n",
    "\n",
    "duplicateControl(0)\n",
    "dupID2 = pd.DataFrame(dupID)\n",
    "for i in range(len(dupID2)):\n",
    "    if dupID2[0][i] == 3:\n",
    "        dupID2[0][i] = 3 \n",
    "    if dupID2[0][i] == 4:# for duplicate sets of 4 there can be 6 pairs\n",
    "        dupID2[0][i] = 6\n",
    "        \n",
    "print(\"Total amount of double products:\", sum(dupID2[0]))\n",
    "print(\"Total ammount of duplicate products:\", len(dupID))"
   ]
  },
  {
   "cell_type": "code",
   "execution_count": 20,
   "id": "22d96674",
   "metadata": {},
   "outputs": [],
   "source": [
    "modelID_list = df['modelID'].tolist()"
   ]
  },
  {
   "cell_type": "code",
   "execution_count": 21,
   "id": "8ca03233",
   "metadata": {},
   "outputs": [],
   "source": [
    "def preprocess(text):\n",
    "    text = re.sub(r'[^\\w\\s]','',text)\n",
    "    tokens = text.lower()\n",
    "    tokens = tokens.split()\n",
    "    return tokens"
   ]
  },
  {
   "cell_type": "code",
   "execution_count": 22,
   "id": "5e804b44",
   "metadata": {},
   "outputs": [],
   "source": [
    "duplicate_IDs=[]\n",
    "for i in range(len(df['title'])):\n",
    "    if modelID_list.count(df['modelID'][i]) >= 2:\n",
    "\n",
    "        duplicate_IDs.append(preprocess(df['modelID'][i]))\n",
    "\n",
    "from itertools import chain\n",
    "duplicate_IDs_list = list(chain.from_iterable(duplicate_IDs))\n",
    "duplicate_IDs_list = list(set(duplicate_IDs_list))"
   ]
  },
  {
   "cell_type": "code",
   "execution_count": 23,
   "id": "28657fa4",
   "metadata": {},
   "outputs": [
    {
     "data": {
      "text/plain": [
       "'Philips 4000 Series 29\" Class 2812\" Diag. LED 720p 60Hz HDTV 29PFL4508F7 - Best Buy'"
      ]
     },
     "execution_count": 23,
     "metadata": {},
     "output_type": "execute_result"
    }
   ],
   "source": [
    "df['title'].iloc[0]"
   ]
  },
  {
   "cell_type": "code",
   "execution_count": 24,
   "id": "5932a10e",
   "metadata": {},
   "outputs": [
    {
     "name": "stdout",
     "output_type": "stream",
     "text": [
      "['philips', '4000', 'series', '29', 'class', '2812', 'diag', 'led', '720p', '60hz', 'hdtv', '29pfl4508f7', 'best', 'buy']\n"
     ]
    }
   ],
   "source": [
    "words=[]\n",
    "for i in range(len(df['title'])):\n",
    "    words.append(preprocess(df['title'].iloc[i]))\n",
    "    \n",
    "print(words[0])"
   ]
  },
  {
   "cell_type": "code",
   "execution_count": 25,
   "id": "bcb513ac",
   "metadata": {},
   "outputs": [
    {
     "name": "stdout",
     "output_type": "stream",
     "text": [
      "philips 4000 series 29\" class 2812\" diag. led 720p 60hz hdtv 29pfl4508f7 - best buy\n"
     ]
    }
   ],
   "source": [
    "def textfunc(A, index_sample):\n",
    "    words = A.iloc[index_sample]\n",
    "#     words = re.sub(r'[^\\w\\s]','', words)\n",
    "    \n",
    "    units = words.split()\n",
    "    units = words.lower() #needed for modelID to be filtered\n",
    "    return str(units)\n",
    "\n",
    "print(textfunc(df['title'], 0)) #gives the title of the first product in x-trainset as strings\n"
   ]
  },
  {
   "cell_type": "code",
   "execution_count": 26,
   "id": "806ac022",
   "metadata": {},
   "outputs": [],
   "source": [
    "listIDs = []\n",
    "for i in range(len(df)):\n",
    "    listIDs.append(textfunc(df['modelID'], i))  \n",
    "    listIDs[i] = listIDs[i].replace('/', '')\n",
    "    listIDs[i] = listIDs[i].replace('-', '')"
   ]
  },
  {
   "cell_type": "code",
   "execution_count": 27,
   "id": "eacfa34b",
   "metadata": {},
   "outputs": [],
   "source": [
    "totalWords = []\n",
    "for i in range(len(df['title'])):\n",
    "    totalWords.append(preprocess(df['title'].iloc[i]))"
   ]
  },
  {
   "cell_type": "code",
   "execution_count": 28,
   "id": "f92512c2",
   "metadata": {},
   "outputs": [
    {
     "name": "stdout",
     "output_type": "stream",
     "text": [
      "1534\n"
     ]
    }
   ],
   "source": [
    "#Remove all double keywords\n",
    "keyWords = []\n",
    "for i in range(len(df)):\n",
    "    for j in range(len(totalWords[i])):\n",
    "        if totalWords[i][j] not in keyWords:\n",
    "            keyWords.append(totalWords[i][j])\n",
    "    #if listIDs[i] in keyWords: ##remove modelID's that are in titles\n",
    "     #   keyWords.remove(listIDs[i])        \n",
    "\n",
    "print(len(keyWords))"
   ]
  },
  {
   "cell_type": "code",
   "execution_count": 29,
   "id": "407d8275",
   "metadata": {},
   "outputs": [],
   "source": [
    "#The input matrix has rows equal to number of keywords and columns equal to number of documents\n",
    "input_matrix = np.zeros((len(keyWords), len(df['title'])))\n",
    "\n",
    "#Loop first over the every shingle and check if this shingle is in each document. \n",
    "#That is, for the first shingle check if this word is in the first document, the first row and first column cell\n",
    "#gets a 1. This is done for every document, ie every column and then for every shingle\n",
    "for i in range(len(keyWords)):\n",
    "    for j in range(len(df['title'])):\n",
    "        if keyWords[i] in preprocess(df['title'][j]):\n",
    "            input_matrix[i][j] = 1"
   ]
  },
  {
   "cell_type": "markdown",
   "id": "c2e5250d",
   "metadata": {},
   "source": [
    "## MinHashing ##"
   ]
  },
  {
   "cell_type": "markdown",
   "id": "f3c5b79d",
   "metadata": {},
   "source": [
    "Find Random Numbers for MinHash "
   ]
  },
  {
   "cell_type": "code",
   "execution_count": 30,
   "id": "bd040e49",
   "metadata": {},
   "outputs": [],
   "source": [
    "#Create hashfunction  h(x) = (a +b*x) % p\n",
    "def findRandom(k):\n",
    "    randomList = []\n",
    "    randomIndex = random.randint(0, len(keyWords) -1) \n",
    "    randomList.append(randomIndex)\n",
    "    while k>0:\n",
    "        while randomIndex in randomList:\n",
    "            randomIndex = random.randint(0, len(keyWords)-1) \n",
    "      \n",
    "        randomList.append(randomIndex)\n",
    "        k = k-1\n",
    "    \n",
    "    return randomList"
   ]
  },
  {
   "cell_type": "code",
   "execution_count": 31,
   "id": "d048bfd6",
   "metadata": {},
   "outputs": [
    {
     "data": {
      "text/plain": [
       "501"
      ]
     },
     "execution_count": 31,
     "metadata": {},
     "output_type": "execute_result"
    }
   ],
   "source": [
    "numHashes=500\n",
    "A = findRandom(numHashes)\n",
    "B = findRandom(numHashes)\n",
    "p=1543 # next prime number after 1534\n",
    "len(A)"
   ]
  },
  {
   "cell_type": "markdown",
   "id": "006b69ba",
   "metadata": {},
   "source": [
    "## Perform MinHashing ##"
   ]
  },
  {
   "cell_type": "code",
   "execution_count": 158,
   "id": "5eddf70b",
   "metadata": {},
   "outputs": [],
   "source": [
    "#for each column, iterate over the rows and where there is a 1 calculate the hash function\n",
    "#This hash function is updated over the rows where there is a 1 when the hash function is smaller\n",
    "#than the previous value.\n",
    "all_signatures=[]\n",
    "for j in range(len(input_matrix[2])):\n",
    "    signature=[]\n",
    "    for k in range(0,numHashes):\n",
    "        minHashCode = 2**32-1\n",
    "        for i in range(len(input_matrix)):\n",
    "            if input_matrix[i][j] == 1:\n",
    "                hashCode = (A[k] + i*B[k]) % p\n",
    "                if hashCode < minHashCode:\n",
    "                    minHashCode = hashCode\n",
    "        \n",
    "        signature.append(minHashCode)\n",
    "    all_signatures.append(signature)"
   ]
  },
  {
   "cell_type": "code",
   "execution_count": 33,
   "id": "a3348bbb",
   "metadata": {},
   "outputs": [],
   "source": [
    "signature_matrix = pd.DataFrame(all_signatures)\n",
    "signature_matrix = pd.DataFrame.transpose(signature_matrix)"
   ]
  },
  {
   "cell_type": "code",
   "execution_count": 34,
   "id": "23483254",
   "metadata": {},
   "outputs": [
    {
     "name": "stdout",
     "output_type": "stream",
     "text": [
      "     0     1     2     3     4     5     6     7     8     9     ...  1614  \\\n",
      "0      66   119    23    23    23    23    23    23    23    23  ...   119   \n",
      "1      33   510    18    18    33    18    33     3    33    33  ...   234   \n",
      "2     110    94    46    30    14    62   110   110   110   126  ...    94   \n",
      "3      29    85   141   141   141   141    34    34    34   141  ...    85   \n",
      "4     102   102    17    17    55    17   216   263    93   102  ...   341   \n",
      "..    ...   ...   ...   ...   ...   ...   ...   ...   ...   ...  ...   ...   \n",
      "495    14   588    29    14    29    44   126   126   126   193  ...   141   \n",
      "496    61   147    68    61    68    68    68    68    68    68  ...    52   \n",
      "497    98   309    76   109    65   276    54    54    43   109  ...   245   \n",
      "498   136   316   147   147     0   158   147    11    11    11  ...   316   \n",
      "499    54   315    54     6   125    77    54    54    54    77  ...   315   \n",
      "\n",
      "     1615  1616  1617  1618  1619  1620  1621  1622  1623  \n",
      "0     119    23    23    23    23    23    23    23    13  \n",
      "1     234    33    33    33    33    33    33    33    33  \n",
      "2      94   126   126   126   126   126   126    62   110  \n",
      "3      85   141   141    80   141   141   141    24    34  \n",
      "4     341   102   102   102   301   102   102   102    93  \n",
      "..    ...   ...   ...   ...   ...   ...   ...   ...   ...  \n",
      "495   141   193   156   193   104   193   193   126    59  \n",
      "496    52    68    68    68     3    68    68    54    68  \n",
      "497   245   109   109   109   109   109   109    54    54  \n",
      "498   316   143    55    11    44   158   158   158   147  \n",
      "499   315    77    52    31    52    77    77   315    54  \n",
      "\n",
      "[500 rows x 1624 columns]\n"
     ]
    }
   ],
   "source": [
    "print(signature_matrix)"
   ]
  },
  {
   "cell_type": "markdown",
   "id": "3270828f",
   "metadata": {},
   "source": [
    "## LSH ##"
   ]
  },
  {
   "cell_type": "code",
   "execution_count": 298,
   "id": "92c6c300",
   "metadata": {},
   "outputs": [],
   "source": [
    "#Adjust number of bands using second input. Different values of the band are\n",
    "#tested and pair completeness, pair quality and f1* measure are compared\n",
    "all_bands = np.vsplit(signature_matrix,50)\n",
    "for x in range(len(all_bands)):\n",
    "    all_bands[x].reset_index(inplace=True,drop=True)"
   ]
  },
  {
   "cell_type": "code",
   "execution_count": 299,
   "id": "d24ee037",
   "metadata": {},
   "outputs": [],
   "source": [
    "#Loop through each column of each band and aggregate the hash values from each row\n",
    "#If two columns have the same hash value they are put into the same bucket\n",
    "buckets={}\n",
    "b=len(all_bands)\n",
    "for band in range(b):\n",
    "    for col in range(len(signature_matrix.iloc[0])):\n",
    "        s = [str(all_bands[band][col][i]) for i in range(len(all_bands[band][col]))]\n",
    "        h = int(\"\".join(s))\n",
    "        \n",
    "        if h in buckets.keys():\n",
    "            buckets[h].append(col)\n",
    "        else:\n",
    "            buckets[h] = [col]\n",
    "        "
   ]
  },
  {
   "cell_type": "code",
   "execution_count": 300,
   "id": "2e973c7e",
   "metadata": {},
   "outputs": [
    {
     "data": {
      "text/plain": [
       "58635"
      ]
     },
     "execution_count": 300,
     "metadata": {},
     "output_type": "execute_result"
    }
   ],
   "source": [
    "len(buckets)"
   ]
  },
  {
   "cell_type": "code",
   "execution_count": 301,
   "id": "dcff0673",
   "metadata": {},
   "outputs": [
    {
     "name": "stdout",
     "output_type": "stream",
     "text": [
      "18402\n",
      "40233\n"
     ]
    }
   ],
   "source": [
    "#If values of buckets greater than one then add the value to \n",
    "#candidate buckets dictionary, with hash function as the key.\n",
    "#If not add to a dictionary where keys contain only 1 value\n",
    "candidate_buckets = {}\n",
    "non_duplicate_buckets={}\n",
    "for key_b in buckets:\n",
    "    if len(buckets[key_b]) > 1:\n",
    "        candidate_buckets[key_b]=buckets[key_b]\n",
    "    else:\n",
    "        non_duplicate_buckets[key_b]=buckets[key_b]\n",
    "        \n",
    "print(len(candidate_buckets.values()))\n",
    "print(len(non_duplicate_buckets.values()))\n"
   ]
  },
  {
   "cell_type": "code",
   "execution_count": 302,
   "id": "36d77bdb",
   "metadata": {},
   "outputs": [],
   "source": [
    "#As there are keys with the same values due to duplicates having the same hash function\n",
    "#in each band we remove duplicate values from both candidate pairs and non duplicates\n",
    "humid=list()\n",
    "for key_n in non_duplicate_buckets:\n",
    "    if non_duplicate_buckets[key_n] not in humid:\n",
    "        humid.append(non_duplicate_buckets[key_n])\n",
    "        "
   ]
  },
  {
   "cell_type": "code",
   "execution_count": 303,
   "id": "750724ea",
   "metadata": {},
   "outputs": [],
   "source": [
    "temp = list()\n",
    "for key_d in candidate_buckets:\n",
    "    if candidate_buckets[key_d] not in temp:\n",
    "        temp.append(candidate_buckets[key_d])\n"
   ]
  },
  {
   "cell_type": "code",
   "execution_count": 304,
   "id": "6905cb36",
   "metadata": {},
   "outputs": [
    {
     "name": "stdout",
     "output_type": "stream",
     "text": [
      "1726 893 2619\n"
     ]
    }
   ],
   "source": [
    "print(len(temp),len(humid),len(temp)+len(humid))"
   ]
  },
  {
   "cell_type": "code",
   "execution_count": 305,
   "id": "1706c5d2",
   "metadata": {},
   "outputs": [
    {
     "name": "stdout",
     "output_type": "stream",
     "text": [
      "807\n"
     ]
    }
   ],
   "source": [
    "#Look for candidates with more than 2 values and get every combination of those values \n",
    "#Example [1,2,3] = [1,2],[2,3][1,3]\n",
    "#Remove the original values longer than 2 from the list and and add the list with all combinations\n",
    "#Thus our final list - temp of duplicates contains only pairs.\n",
    "more_than_2 =[]\n",
    "for k in range(len(temp)):\n",
    "    if len(temp[k]) > 2:\n",
    "        more_than_2.append(temp[k])\n",
    "        \n",
    "print(len(more_than_2))"
   ]
  },
  {
   "cell_type": "code",
   "execution_count": 306,
   "id": "97a14a48",
   "metadata": {},
   "outputs": [
    {
     "name": "stdout",
     "output_type": "stream",
     "text": [
      "6116\n"
     ]
    }
   ],
   "source": [
    "new_pairs=[]\n",
    "for i in range(len(more_than_2)):\n",
    "    res = [(a, b) for idx, a in enumerate(more_than_2[i]) for b in more_than_2[i][idx + 1:]]\n",
    "    for a,b in res:\n",
    "        if [b,a] not in new_pairs: #dont count [1,2] and [2,1] as different\n",
    "            new_pairs.append([a,b])\n",
    "            \n",
    "print(len(new_pairs))"
   ]
  },
  {
   "cell_type": "code",
   "execution_count": 307,
   "id": "320e5321",
   "metadata": {},
   "outputs": [
    {
     "name": "stdout",
     "output_type": "stream",
     "text": [
      "4956\n"
     ]
    }
   ],
   "source": [
    "for j in range(len(new_pairs)):\n",
    "    if new_pairs[j] not in temp:\n",
    "        temp.append(new_pairs[j])\n",
    "        \n",
    "print(len(temp))"
   ]
  },
  {
   "cell_type": "code",
   "execution_count": 308,
   "id": "01a8b50f",
   "metadata": {},
   "outputs": [],
   "source": [
    "for l in range(len(more_than_2)):\n",
    "    temp.remove(more_than_2[l])"
   ]
  },
  {
   "cell_type": "code",
   "execution_count": 309,
   "id": "15a2b781",
   "metadata": {},
   "outputs": [
    {
     "name": "stdout",
     "output_type": "stream",
     "text": [
      "4149\n"
     ]
    }
   ],
   "source": [
    "print(len(temp))"
   ]
  },
  {
   "cell_type": "code",
   "execution_count": 310,
   "id": "c2206e38",
   "metadata": {},
   "outputs": [],
   "source": [
    "true =0\n",
    "false=0\n",
    "for y in range(len(temp)):\n",
    "    if df['modelID'][temp[y][0]] == df['modelID'][temp[y][1]]:\n",
    "        true+=1\n",
    "    \n",
    "    if df['modelID'][temp[y][0]] != df['modelID'][temp[y][1]]:\n",
    "        false+=1\n",
    "        "
   ]
  },
  {
   "cell_type": "code",
   "execution_count": 311,
   "id": "d22b962b",
   "metadata": {},
   "outputs": [],
   "source": [
    "pair_quality = true/len(temp)\n",
    "pair_completeness = true/(sum(dupID2[0]))\n",
    "\n",
    "f1_star = (pair_quality*pair_completeness)/(pair_quality+pair_completeness)"
   ]
  },
  {
   "cell_type": "code",
   "execution_count": 312,
   "id": "c2b08009",
   "metadata": {
    "scrolled": true
   },
   "outputs": [
    {
     "name": "stdout",
     "output_type": "stream",
     "text": [
      "399 3750 4149 0.0823019801980198 0.5708154506437768 0.09616775126536514\n"
     ]
    }
   ],
   "source": [
    "print(true,false,len(temp),f1_star,pair_completeness,pair_quality)"
   ]
  },
  {
   "cell_type": "code",
   "execution_count": 242,
   "id": "5e5d2b52",
   "metadata": {},
   "outputs": [
    {
     "name": "stdout",
     "output_type": "stream",
     "text": [
      "[1.0, 0.9972312513520695, 0.9840344433634576, 0.954992586021436, 0.8870718549931568, 0.8513399225207846, 0.6762433378062414]\n"
     ]
    }
   ],
   "source": [
    "thresholdPairs=[(1, 500), (2, 250), (5, 100), (10, 50), (20, 25),(25,20),(50,10)]\n",
    "t=[]\n",
    "for b,r in thresholdPairs:\n",
    "    threshold=(1/b)**(1/r)\n",
    "    t.append(threshold)\n",
    "print(t)"
   ]
  },
  {
   "cell_type": "code",
   "execution_count": 243,
   "id": "b8613deb",
   "metadata": {},
   "outputs": [],
   "source": [
    "all_pair_quality=[0.9125799573560768,0.9172413793103448,0.9172413793103448,0.9151376146788991,0.822680412371134,0.6384,0.11083333333333334]\n",
    "all_pair_completeness=[0.6123032904148784,0.5708154506437768,0.5708154506437768,0.5708154506437768,0.5708154506437768,0.5708154506437768,0.5708154506437768]\n",
    "all_f1_star=[0.3664383561643835,0.3518518518518518,0.3518518518518518,0.3515418502202643,0.33699324324324326,0.30135951661631416,0.09281228192602932]\n",
    "\n",
    "\n",
    "\n",
    "\n",
    "\n"
   ]
  },
  {
   "cell_type": "code",
   "execution_count": 244,
   "id": "2ec3880d",
   "metadata": {},
   "outputs": [
    {
     "data": {
      "image/png": "[encoded data removed]",
      "text/plain": [
       "<Figure size 432x288 with 1 Axes>"
      ]
     },
     "metadata": {
      "needs_background": "light"
     },
     "output_type": "display_data"
    },
    {
     "data": {
      "image/png": "[encoded data removed]",
      "text/plain": [
       "<Figure size 432x288 with 1 Axes>"
      ]
     },
     "metadata": {
      "needs_background": "light"
     },
     "output_type": "display_data"
    },
    {
     "data": {
      "image/png": "[encoded data removed]",
      "text/plain": [
       "<Figure size 432x288 with 1 Axes>"
      ]
     },
     "metadata": {
      "needs_background": "light"
     },
     "output_type": "display_data"
    }
   ],
   "source": [
    "plt.plot(t, all_pair_quality)\n",
    "plt.title('Pair Quality vs Threshold')\n",
    "plt.xlabel('Threshold')\n",
    "plt.ylabel('Pair Quality')\n",
    "plt.show()\n",
    "\n",
    "plt.plot(t, all_pair_completeness)\n",
    "plt.title('Pair Completeness vs Threshold')\n",
    "plt.xlabel('Threshold')\n",
    "plt.ylabel('Pair Completeness')\n",
    "plt.show()\n",
    "\n",
    "\n",
    "plt.plot(t, all_f1_star)\n",
    "plt.title('F1* vs Threshold')\n",
    "plt.xlabel('Threshold')\n",
    "plt.ylabel('F1*')\n",
    "plt.show()"
   ]
  },
  {
   "cell_type": "markdown",
   "id": "869e4326",
   "metadata": {},
   "source": [
    "## Jaccard Similarity and Signature Similarity ##"
   ]
  },
  {
   "cell_type": "code",
   "execution_count": 274,
   "id": "9b2ad94b",
   "metadata": {},
   "outputs": [],
   "source": [
    "def jaccard_binary(x,y):\n",
    "    \"\"\"A function for finding the similarity between two binary vectors\"\"\"\n",
    "    intersection = np.logical_and(x, y)\n",
    "    union = np.logical_or(x, y)\n",
    "    similarity = intersection.sum() / float(union.sum())\n",
    "    return similarity"
   ]
  },
  {
   "cell_type": "code",
   "execution_count": 275,
   "id": "f7de10aa",
   "metadata": {
    "scrolled": false
   },
   "outputs": [],
   "source": [
    "jaccard_similarity=[]\n",
    "for t in range(len(temp)):\n",
    "    jaccard_similarity.append(jaccard_binary(input_matrix[:,temp[t][0]],input_matrix[:,temp[t][1]]))"
   ]
  },
  {
   "cell_type": "code",
   "execution_count": 276,
   "id": "fee5f66a",
   "metadata": {},
   "outputs": [],
   "source": [
    "sigSimilarity = []\n",
    "for i in range(len(temp)):\n",
    "    num=0\n",
    "    for j in range(len(signature_matrix[0])):\n",
    "        if signature_matrix[temp[i][0]][j] == signature_matrix[temp[i][1]][j]:\n",
    "            num+=1\n",
    "    fraction=num/(len(signature_matrix[0]))\n",
    "    sigSimilarity.append(fraction)\n"
   ]
  },
  {
   "cell_type": "code",
   "execution_count": 277,
   "id": "70d428c1",
   "metadata": {},
   "outputs": [],
   "source": [
    "similarity_matrix = pd.DataFrame({'Jaccard Similarity':jaccard_similarity,'Sig Similarity':sigSimilarity})\n",
    "predicted_duplicates =[0]*len(similarity_matrix)\n",
    "#print(similarity_matrix)\n",
    "for x in range(len(similarity_matrix)):\n",
    "    if similarity_matrix.iloc[x][0] > 0.8 and similarity_matrix.iloc[x][1]>0.8:\n",
    "        predicted_duplicates[x] = 1\n",
    "        \n",
    "#print(predicted_duplicates)\n",
    "    "
   ]
  },
  {
   "cell_type": "code",
   "execution_count": 278,
   "id": "118589d3",
   "metadata": {},
   "outputs": [],
   "source": [
    "similarity_matrix['Pair'] =temp"
   ]
  },
  {
   "cell_type": "code",
   "execution_count": 279,
   "id": "38ea33c1",
   "metadata": {},
   "outputs": [],
   "source": [
    "similarity_matrix['Y'] = predicted_duplicates"
   ]
  },
  {
   "cell_type": "code",
   "execution_count": 280,
   "id": "e7ed2398",
   "metadata": {},
   "outputs": [
    {
     "data": {
      "text/plain": [
       "518"
      ]
     },
     "execution_count": 280,
     "metadata": {},
     "output_type": "execute_result"
    }
   ],
   "source": [
    "sum(similarity_matrix['Y'])"
   ]
  },
  {
   "cell_type": "code",
   "execution_count": 281,
   "id": "b76490e4",
   "metadata": {},
   "outputs": [
    {
     "name": "stdout",
     "output_type": "stream",
     "text": [
      "399 119 300\n",
      "0.7702702702702703 0.5708154506437768 0.6557107641741988\n"
     ]
    }
   ],
   "source": [
    "TP=0\n",
    "FP=0\n",
    "FN=0\n",
    "for c in range(len(similarity_matrix)):\n",
    "    if similarity_matrix['Y'][c] == 1:\n",
    "    \n",
    "        if df['modelID'][similarity_matrix['Pair'][c][0]] == df['modelID'][similarity_matrix['Pair'][c][1]]:\n",
    "            TP+=1\n",
    "        else:\n",
    "            FP+=1\n",
    "            \n",
    "FN=total_number_of_duplicates-TP\n",
    "print(TP,FP,FN)\n",
    "precision = TP/(TP+FP)\n",
    "recall = TP/(TP+FN)\n",
    "f1 = 2*precision*recall/(precision+recall)\n",
    "print(precision,recall,f1)\n"
   ]
  },
  {
   "cell_type": "code",
   "execution_count": 316,
   "id": "774edf54",
   "metadata": {},
   "outputs": [
    {
     "name": "stdout",
     "output_type": "stream",
     "text": [
      "The threshold for r= 500 and b= 1 is: 1.0\n",
      "The threshold for r= 250 and b= 2 is: 0.9972312513520695\n",
      "The threshold for r= 100 and b= 5 is: 0.9840344433634576\n",
      "The threshold for r= 50 and b= 10 is: 0.954992586021436\n",
      "The threshold for r= 25 and b= 20 is: 0.8870718549931568\n",
      "The threshold for r= 20 and b= 25 is: 0.8513399225207846\n"
     ]
    },
    {
     "data": {
      "image/png": "[encoded data removed]",
      "text/plain": [
       "<Figure size 432x288 with 1 Axes>"
      ]
     },
     "metadata": {
      "needs_background": "light"
     },
     "output_type": "display_data"
    }
   ],
   "source": [
    "import matplotlib.pyplot as plt\n",
    "thresholdPairs=[(1, 500), (2, 250), (5, 100), (10, 50), (20, 25),(25,20)]\n",
    "c = np.linspace(0.1,1,100)\n",
    "col = [\"red\", \"blue\", \"green\", \"black\", \"orange\", \"purple\",]\n",
    "# lab = [\"r=3, b=10\", \"r=6, b=20\", \"r=5, b=50\"]\n",
    "threshold = [0,0,0,0,0,0]\n",
    "\n",
    "def function(A, col):\n",
    "    plt.plot(c, 1 - (1-c**A[1])**A[0], color=col, marker='o', label=['(b,r)=',A])\n",
    "    plt.ylabel(\"S-curve\"); plt.xlabel(\"s-value\")\n",
    "    plt.axhline(0.5)\n",
    "    plt.title(\"S-curve for values of (r,b)\")\n",
    "    \n",
    "for i in range(len(thresholdPairs)):\n",
    "    function(thresholdPairs[i], col[i])\n",
    "    threshold[i] = (1/thresholdPairs[i][0])**(1/thresholdPairs[i][1]) #approximations\n",
    "    print(\"The threshold for r=\",  thresholdPairs[i][1], \"and b=\", thresholdPairs[i][0], \"is:\", threshold[i])\n",
    "#     plt.axvline(threshold[i], color=col[i], linestyle=\"--\")\n",
    "    plt.legend() "
   ]
  },
  {
   "cell_type": "code",
   "execution_count": null,
   "id": "580b4006",
   "metadata": {},
   "outputs": [],
   "source": []
  }
 ],
 "metadata": {
  "kernelspec": {
   "display_name": "Python 3",
   "language": "python",
   "name": "python3"
  },
  "language_info": {
   "codemirror_mode": {
    "name": "ipython",
    "version": 3
   },
   "file_extension": ".py",
   "mimetype": "text/x-python",
   "name": "python",
   "nbconvert_exporter": "python",
   "pygments_lexer": "ipython3",
   "version": "3.8.3"
  }
 },
 "nbformat": 4,
 "nbformat_minor": 5
}
